{
 "cells": [
  {
   "cell_type": "markdown",
   "metadata": {},
   "source": [
    "### Import libraries"
   ]
  },
  {
   "cell_type": "code",
   "execution_count": null,
   "metadata": {},
   "outputs": [],
   "source": [
    "import proactive"
   ]
  },
  {
   "cell_type": "markdown",
   "metadata": {},
   "source": [
    "### Creating the gateway"
   ]
  },
  {
   "cell_type": "code",
   "execution_count": null,
   "metadata": {},
   "outputs": [],
   "source": [
    "print(\"Logging on proactive-server...\")\n",
    "proactive_host = 'try.activeeon.com'\n",
    "proactive_port = '8443'\n",
    "proactive_url  = \"https://\"+proactive_host+\":\"+proactive_port\n",
    "print(\"Creating gateway \")\n",
    "gateway = proactive.ProActiveGateway(proactive_url, debug=False)\n",
    "print(\"Gateway created\")"
   ]
  },
  {
   "cell_type": "markdown",
   "metadata": {},
   "source": [
    "### Connecting"
   ]
  },
  {
   "cell_type": "code",
   "execution_count": null,
   "metadata": {},
   "outputs": [],
   "source": [
    "print(\"Connecting on: \" + proactive_url)\n",
    "gateway.connect()\n",
    "assert gateway.isConnected() is True\n",
    "print(\"Connected\")"
   ]
  },
  {
   "cell_type": "markdown",
   "metadata": {},
   "source": [
    "### Creating the workflow"
   ]
  },
  {
   "cell_type": "code",
   "execution_count": null,
   "metadata": {
    "collapsed": false,
    "jupyter": {
     "outputs_hidden": false
    },
    "pycharm": {
     "name": "#%%\n"
    }
   },
   "outputs": [],
   "source": [
    "print(\"Creating a proactive job...\")\n",
    "job = gateway.createJob(\"ai_machine_learning_workflow\")\n",
    "print(\"Job created.\")"
   ]
  },
  {
   "cell_type": "markdown",
   "metadata": {},
   "source": [
    "### Get the ai-machine-learning bucket"
   ]
  },
  {
   "cell_type": "code",
   "execution_count": null,
   "metadata": {
    "collapsed": false,
    "jupyter": {
     "outputs_hidden": false
    },
    "pycharm": {
     "name": "#%%\n"
    }
   },
   "outputs": [],
   "source": [
    "print(\"Getting the ai-machine-learning bucket\")\n",
    "bucket = gateway.getBucket(\"ai-machine-learning\")\n",
    "print(\"ai-machine-learning bucket initiated.\")"
   ]
  },
  {
   "cell_type": "markdown",
   "metadata": {},
   "source": [
    "### Creating the Load_Iris_Dataset task"
   ]
  },
  {
   "cell_type": "code",
   "execution_count": null,
   "metadata": {},
   "outputs": [],
   "source": [
    "print(\"Creating the Load_Iris_Dataset task...\")\n",
    "load_iris_dataset_task = bucket.create_Load_Iris_Dataset_task()\n",
    "job.addTask(load_iris_dataset_task)\n",
    "print(\"Task created.\")"
   ]
  },
  {
   "cell_type": "markdown",
   "metadata": {},
   "source": [
    "### Creating the Split_Data task"
   ]
  },
  {
   "cell_type": "code",
   "execution_count": null,
   "metadata": {},
   "outputs": [],
   "source": [
    "print(\"Creating the Split_Data task...\")\n",
    "split_data_task = bucket.create_Split_Data_task()\n",
    "split_data_task.addDependency(load_iris_dataset_task)\n",
    "job.addTask(split_data_task)\n",
    "print(\"Task created.\")"
   ]
  },
  {
   "cell_type": "markdown",
   "metadata": {},
   "source": [
    "### Creating the Logistic_Regression task"
   ]
  },
  {
   "cell_type": "code",
   "execution_count": null,
   "metadata": {},
   "outputs": [],
   "source": [
    "print(\"Creating the Logistic_Regression task...\")\n",
    "logistic_regression_task = bucket.create_Logistic_Regression_task()\n",
    "job.addTask(logistic_regression_task)\n",
    "print(\"Task created.\")"
   ]
  },
  {
   "cell_type": "markdown",
   "metadata": {},
   "source": [
    "### Creating the Train_Model task"
   ]
  },
  {
   "cell_type": "code",
   "execution_count": null,
   "metadata": {},
   "outputs": [],
   "source": [
    "print(\"Creating the Train_Model task...\")\n",
    "train_model_task = bucket.create_Train_Model_task()\n",
    "train_model_task.addDependency(split_data_task)\n",
    "train_model_task.addDependency(logistic_regression_task)\n",
    "job.addTask(train_model_task)\n",
    "print(\"Task created.\")"
   ]
  },
  {
   "cell_type": "markdown",
   "metadata": {},
   "source": [
    "### Creating the Download_Model task"
   ]
  },
  {
   "cell_type": "code",
   "execution_count": null,
   "metadata": {},
   "outputs": [],
   "source": [
    "print(\"Creating the Download_Model task...\")\n",
    "download_model_task = bucket.create_Download_Model_task()\n",
    "download_model_task.addDependency(train_model_task)\n",
    "job.addTask(download_model_task)\n",
    "print(\"Task created.\")"
   ]
  },
  {
   "cell_type": "markdown",
   "metadata": {},
   "source": [
    "### Creating the Predict_Model task"
   ]
  },
  {
   "cell_type": "code",
   "execution_count": null,
   "metadata": {},
   "outputs": [],
   "source": [
    "print(\"Creating the Predict_Model task...\")\n",
    "predict_model_task = bucket.create_Predict_Model_task()\n",
    "predict_model_task.addDependency(split_data_task)\n",
    "predict_model_task.addDependency(train_model_task)\n",
    "job.addTask(predict_model_task)\n",
    "print(\"Task created.\")"
   ]
  },
  {
   "cell_type": "markdown",
   "metadata": {},
   "source": [
    "### Creating the Preview_Results task"
   ]
  },
  {
   "cell_type": "code",
   "execution_count": null,
   "metadata": {},
   "outputs": [],
   "source": [
    "print(\"Creating the Preview_Results task...\")\n",
    "preview_results_task = bucket.create_Preview_Results_task()\n",
    "preview_results_task.addDependency(predict_model_task)\n",
    "job.addTask(preview_results_task)\n",
    "print(\"Task created.\")"
   ]
  },
  {
   "cell_type": "markdown",
   "metadata": {},
   "source": [
    "### Submitting the job to the scheduler"
   ]
  },
  {
   "cell_type": "code",
   "execution_count": null,
   "metadata": {
    "collapsed": false,
    "jupyter": {
     "outputs_hidden": false
    },
    "pycharm": {
     "name": "#%%\n"
    }
   },
   "outputs": [],
   "source": [
    "print(\"Submitting the job to the proactive scheduler...\")\n",
    "job_id = gateway.submitJob(job, debug=False)\n",
    "print(\"job_id: \" + str(job_id))"
   ]
  },
  {
   "cell_type": "markdown",
   "metadata": {},
   "source": [
    "### Getting job status"
   ]
  },
  {
   "cell_type": "code",
   "execution_count": null,
   "metadata": {},
   "outputs": [],
   "source": [
    "print(\"Getting job status...\")\n",
    "job_status = gateway.getJobStatus(job_id)\n",
    "print(job_status)"
   ]
  },
  {
   "cell_type": "markdown",
   "metadata": {},
   "source": [
    "### Getting job outputs"
   ]
  },
  {
   "cell_type": "code",
   "execution_count": null,
   "metadata": {},
   "outputs": [],
   "source": [
    "print(\"Getting job outputs...\")\n",
    "job_outputs = gateway.getJobOutput(job_id)\n",
    "print(job_outputs)"
   ]
  },
  {
   "cell_type": "markdown",
   "metadata": {},
   "source": [
    "### Disconnecting"
   ]
  },
  {
   "cell_type": "code",
   "execution_count": null,
   "metadata": {
    "collapsed": false,
    "jupyter": {
     "outputs_hidden": false
    },
    "pycharm": {
     "name": "#%%\n"
    }
   },
   "outputs": [],
   "source": [
    "print(\"Disconnecting\")\n",
    "gateway.close()\n",
    "print(\"Finished\")"
   ]
  }
 ],
 "metadata": {
  "kernelspec": {
   "display_name": "Python 3 (ipykernel)",
   "language": "python",
   "name": "python3"
  },
  "language_info": {
   "codemirror_mode": {
    "name": "ipython",
    "version": 3
   },
   "file_extension": ".py",
   "mimetype": "text/x-python",
   "name": "python",
   "nbconvert_exporter": "python",
   "pygments_lexer": "ipython3",
   "version": "3.9.17"
  },
  "pycharm": {
   "stem_cell": {
    "cell_type": "raw",
    "metadata": {
     "collapsed": false
    },
    "source": []
   }
  }
 },
 "nbformat": 4,
 "nbformat_minor": 4
}
